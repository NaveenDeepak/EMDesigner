{
 "cells": [
  {
   "cell_type": "markdown",
   "metadata": {},
   "source": [
    "# dq\n",
    "\n",
    "> calculate abc to dq0 transformations."
   ]
  },
  {
   "cell_type": "code",
   "execution_count": null,
   "metadata": {},
   "outputs": [],
   "source": [
    "#| default_exp dq"
   ]
  },
  {
   "cell_type": "code",
   "execution_count": null,
   "metadata": {},
   "outputs": [],
   "source": [
    "#| hide\n",
    "from nbdev.showdoc import *"
   ]
  },
  {
   "cell_type": "code",
   "execution_count": null,
   "metadata": {},
   "outputs": [],
   "source": [
    "#| export\n",
    "import numpy as np\n",
    "import matplotlib.pyplot as plt\n",
    "import sympy\n",
    "import IPython.display as display"
   ]
  },
  {
   "cell_type": "markdown",
   "metadata": {},
   "source": [
    "### Convention, equations for PMSM\n",
    "\n",
    "#### emf\n",
    "$e_a = E \\sin(\\theta)$      \n",
    "$e_b = E \\sin(\\theta - 2 \\pi/3)$        \n",
    "$e_c = E \\sin(\\theta + 2 \\pi/3)$\n",
    "\n",
    "#### self-inductance\n",
    "$Laa = L_0 + L_2 \\cos(2 \\theta)$        \n",
    "$Lbb = L_0 + L_2 \\cos(2 \\theta + 2 \\pi/3)$      \n",
    "$Laa = L_0 + L_2 \\cos(2 \\theta - 2 \\pi/3)$      \n",
    "\n",
    "#### mutual-inductance\n",
    "$Lab = M_0 + M_2 \\cos(2\\theta - 2\\pi/3)$        \n",
    "$Lbc = M_0 + M_2 \\cos(2\\theta)$     \n",
    "$Lca = M_0 + M_2 \\cos(2\\theta + 2\\pi/3)$     \n",
    "\n",
    "$L_{abc} = \\begin{bmatrix}\n",
    "Laa & Lab & Lca \\\\\n",
    "Lab & Lbb & Lbc \\\\\n",
    "Lca & Lbc & Lca\n",
    "\\end{bmatrix}$\n",
    "\n",
    "\n",
    "#### transformation matrix\n",
    "$K = \\dfrac{2}{3}\\begin{bmatrix}\n",
    "\\cos(\\theta) & \\cos(\\theta-2\\pi/3) & \\cos(\\theta+2\\pi/3)\\\\\n",
    "\\sin(\\theta) & \\sin(\\theta-2\\pi/3) & \\sin(\\theta+2\\pi/3)\\\\\n",
    "0.5 & 0.5 & 0.5\n",
    "\\end{bmatrix}$\n",
    "\n",
    "\n",
    "#### inverse transformation matrix\n",
    "$K^{-1} = \\begin{bmatrix}\n",
    "\\cos(\\theta) & \\sin(\\theta) & 1 \\\\\n",
    "\\cos(\\theta-2\\pi/3) & \\sin(\\theta-2\\pi/3) & 1 \\\\\n",
    "\\cos(\\theta+2\\pi/3) & \\sin(\\theta+2\\pi/3) & 1\n",
    "\\end{bmatrix}$\n",
    "\n",
    "\n",
    "#### Ldq0 axis inductance\n",
    "$L_d = (L_0 - M_0) - (\\dfrac{L_2}{2} + M_2)$   \n",
    "     \n",
    "$L_q = (L_0 - M_0) + (\\dfrac{L_2}{2} + M_2)$\n"
   ]
  },
  {
   "cell_type": "code",
   "execution_count": null,
   "metadata": {},
   "outputs": [],
   "source": [
    "#| export\n",
    "def transform(theta, x):\n",
    "    k = (2/3)*np.matrix([[np.cos(theta), np.cos(theta - 2*np.pi/3), np.cos(theta + 2*np.pi/3)],\n",
    "    [np.sin(theta), np.sin(theta - 2*np.pi/3), np.sin(theta + 2*np.pi/3)],\n",
    "    [0.5, 0.5, 0.5]])\n",
    "    print('tranformation matrix (shape:{}): \\n{}\\n'.format(np.shape(k), k))\n",
    "\n",
    "    x = np.matrix(x)\n",
    "    print('abc matrix (shape:{}): \\n{}\\n'.format(np.shape(x), x))\n",
    "\n",
    "    try:\n",
    "        #np.shape(k)[1] == np.shape(x)[0]\n",
    "        dq = np.matmul(k, x)\n",
    "        print('tranformed matrix: \\n', dq)\n",
    "        return dq\n",
    "\n",
    "    except:\n",
    "        print('incompatible input shapes')"
   ]
  },
  {
   "cell_type": "markdown",
   "metadata": {},
   "source": [
    "#### forward transform example"
   ]
  },
  {
   "cell_type": "code",
   "execution_count": null,
   "metadata": {},
   "outputs": [],
   "source": [
    "angle = 0\n",
    "x = [[np.cos(angle)], [np.cos(angle-2*np.pi/3)], [np.cos(angle+2*np.pi/3)]]\n",
    "x_dq = transform(angle, x)"
   ]
  },
  {
   "cell_type": "code",
   "execution_count": null,
   "metadata": {},
   "outputs": [],
   "source": [
    "#| export\n",
    "def inv_transform(theta, x):\n",
    "    k1 = np.matrix(((np.cos(theta), np.sin(theta), 1),\n",
    "        (np.cos(theta - 2*np.pi/3), np.sin(theta - 2*np.pi/3), 1),\n",
    "        (np.cos(theta + 2*np.pi/3), np.sin(theta + 2*np.pi/3), 1)))\n",
    "    print('tranformation matrix (shape:{}): \\n{}\\n'.format(np.shape(k1), k1))\n",
    "\n",
    "    x = np.matrix(x)\n",
    "    print('dq matrix (shape:{}): \\n{}\\n'.format(np.shape(x), x))\n",
    "\n",
    "    try:\n",
    "        #np.shape(k)[1] == np.shape(x)[0]\n",
    "        abc = np.matmul(x, k1)\n",
    "        print('tranformed matrix: \\n', abc)\n",
    "        return abc\n",
    "\n",
    "    except:\n",
    "        print('incompatible input shapes')"
   ]
  },
  {
   "cell_type": "markdown",
   "metadata": {},
   "source": [
    "#### inverse tranform example"
   ]
  },
  {
   "cell_type": "code",
   "execution_count": null,
   "metadata": {},
   "outputs": [],
   "source": [
    "angle = 0\n",
    "x = [1, 0, 0]\n",
    "inv_transform(angle, x)"
   ]
  },
  {
   "cell_type": "markdown",
   "metadata": {},
   "source": [
    "#### $L_{dq0}$ measurements"
   ]
  },
  {
   "cell_type": "code",
   "execution_count": null,
   "metadata": {},
   "outputs": [],
   "source": [
    "L0, L2, M0, M2, ta = sympy.symbols('L0, L2, M0, M2, ta')\n",
    "laa = L0 + L2*sympy.cos(2*ta)\n",
    "lbb = L0 + L2*sympy.cos(2*ta + 2*sympy.pi/3)\n",
    "lcc = L0 + L2*sympy.cos(2*ta - 2*sympy.pi/3)\n",
    "lab = M0 + M2*sympy.cos(2*ta -2*sympy.pi/3)\n",
    "lbc = M0 + M2*sympy.cos(2*ta)\n",
    "lca = M0 + M2*sympy.cos(2*ta +2*sympy.pi/3)"
   ]
  },
  {
   "cell_type": "markdown",
   "metadata": {},
   "source": [
    "$L_d, L_q$ can be measured in practice by locking the direct axis of rotor to one of the phases. Example:\n",
    "\n",
    "1. short the terminals B-C\n",
    "2. pass dc current through phase-A and shorted terminals of phase-B/C\n",
    "3. pass sufficient current to ensure that rotor moves and locks to phase A\n",
    "4. After the rotor locks itself to phase-A. Remove DC current and measure inductance $L_m$ across phase-A and phase-B"
   ]
  },
  {
   "cell_type": "markdown",
   "metadata": {},
   "source": [
    "The measured inductance is given as"
   ]
  },
  {
   "cell_type": "code",
   "execution_count": null,
   "metadata": {},
   "outputs": [],
   "source": [
    "Lm = laa + lbb/2 -lab*3/2 - lca/2 + lbc/2\n",
    "Lm"
   ]
  },
  {
   "cell_type": "markdown",
   "metadata": {},
   "source": [
    "According the expressions for inductance. rotor position $ta$ is 90 degrees when the direct axis is aligned to Phase A. Substituting the same, expression of measured inductance is calculated as 3/2 times the Ld value."
   ]
  },
  {
   "cell_type": "code",
   "execution_count": null,
   "metadata": {},
   "outputs": [],
   "source": [
    "Lm.evalf(subs={ta: np.pi/2})"
   ]
  },
  {
   "cell_type": "markdown",
   "metadata": {},
   "source": [
    "Above expression is $\\dfrac{3}{2}L_d$, providing experimental values for $L_d$. In this rotor position, inductance ($L_m$) measured between phase B and phase C is "
   ]
  },
  {
   "cell_type": "code",
   "execution_count": null,
   "metadata": {},
   "outputs": [],
   "source": [
    "lm = lbb + lcc - 2*lbc\n",
    "lm"
   ]
  },
  {
   "cell_type": "markdown",
   "metadata": {},
   "source": [
    "Substituting the same rotor position angle for $ta$ shows that the measured values is twice the Lq inductance"
   ]
  },
  {
   "cell_type": "code",
   "execution_count": null,
   "metadata": {},
   "outputs": [],
   "source": [
    "lm.evalf(subs={ta: np.pi/2})"
   ]
  },
  {
   "cell_type": "markdown",
   "metadata": {},
   "source": [
    "Above expression is $2L_q$, providing experimental value for $L_q$"
   ]
  },
  {
   "cell_type": "code",
   "execution_count": null,
   "metadata": {},
   "outputs": [],
   "source": [
    "#| hide\n",
    "import nbdev; nbdev.nbdev_export()"
   ]
  }
 ],
 "metadata": {
  "kernelspec": {
   "display_name": "python3",
   "language": "python",
   "name": "python3"
  }
 },
 "nbformat": 4,
 "nbformat_minor": 2
}
