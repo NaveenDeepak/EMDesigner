{
 "cells": [
  {
   "cell_type": "markdown",
   "metadata": {},
   "source": [
    "# inductance\n",
    "\n",
    "> calculation of stator winding inductance assuming a surface PM rotor"
   ]
  },
  {
   "cell_type": "code",
   "execution_count": null,
   "metadata": {},
   "outputs": [],
   "source": [
    "#| default_exp inductance"
   ]
  },
  {
   "cell_type": "code",
   "execution_count": null,
   "metadata": {},
   "outputs": [],
   "source": [
    "#| hide\n",
    "from nbdev.showdoc import *"
   ]
  },
  {
   "cell_type": "code",
   "execution_count": null,
   "metadata": {},
   "outputs": [],
   "source": [
    "#| export\n",
    "import numpy as np"
   ]
  },
  {
   "cell_type": "markdown",
   "metadata": {},
   "source": [
    "## Phase Inductance\n",
    "\n",
    "$L_{ph} = N_{sp} (L_g + L_s + L_e)$"
   ]
  },
  {
   "cell_type": "markdown",
   "metadata": {},
   "source": [
    "### End turn inductance\n",
    "\n",
    "$L_e = \\dfrac{n_s^2 \\mu_0 \\tau_c}{8}  \\ln{\\Big( \\dfrac{\\tau_c^2 \\pi}{4 A_s} \\Big)}$"
   ]
  },
  {
   "cell_type": "markdown",
   "metadata": {},
   "source": [
    "### Slot leakage inductance\n",
    "\n",
    "$L_s = n_s^2 \\Big [ \\dfrac{\\mu_0 d_3^2 L}{3 A_s} + \\dfrac{2 \\mu_0 d_2 L}{w_s + w_{si}} + \\dfrac{\\mu_0 d_1 L}{w_s} \\Big ]$"
   ]
  },
  {
   "cell_type": "markdown",
   "metadata": {},
   "source": [
    "### Airgap inductance\n",
    "\n",
    "$L_g = \\dfrac{n_s^2 \\mu_R \\mu_0 L \\tau_c k_d}{4(l_m + \\mu_R k_c g)}$"
   ]
  },
  {
   "cell_type": "code",
   "execution_count": null,
   "metadata": {},
   "outputs": [],
   "source": [
    "#| export\n",
    "\n",
    "def end_turn(stator):\n",
    "    ns = stator.slots\n",
    "    mu0 = 4*np.pi*1e-7\n",
    "    theta_p = 2*np.pi/ns\n",
    "    R_si = stator.outerdiameter\n",
    "    tau_p = R_si*theta_p\n",
    "    Nspp = ns/10/3\n",
    "    alpha_cp = int(Nspp)/Nspp\n",
    "    tau_c = alpha_cp*tau_p\n",
    "    return 'yet to be included'"
   ]
  },
  {
   "cell_type": "code",
   "execution_count": null,
   "metadata": {},
   "outputs": [],
   "source": [
    "#| hide\n",
    "import nbdev; nbdev.nbdev_export()"
   ]
  }
 ],
 "metadata": {
  "kernelspec": {
   "display_name": "Python 3.8.2 64-bit",
   "language": "python",
   "name": "python3"
  }
 },
 "nbformat": 4,
 "nbformat_minor": 2
}
