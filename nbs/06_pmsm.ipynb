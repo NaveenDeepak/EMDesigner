{
 "cells": [
  {
   "cell_type": "markdown",
   "metadata": {},
   "source": [
    "# PMSM\n",
    "\n",
    "> Definition of motor class using stator and rotor subclasses."
   ]
  },
  {
   "cell_type": "code",
   "execution_count": null,
   "metadata": {},
   "outputs": [],
   "source": [
    "#| default_exp pmsm"
   ]
  },
  {
   "cell_type": "code",
   "execution_count": null,
   "metadata": {},
   "outputs": [],
   "source": [
    "#| hide\n",
    "from nbdev.showdoc import *"
   ]
  },
  {
   "cell_type": "code",
   "execution_count": null,
   "metadata": {},
   "outputs": [],
   "source": [
    "#| hide\n",
    "import sys\n",
    "sys.path.append(\"..\")"
   ]
  },
  {
   "cell_type": "code",
   "execution_count": null,
   "metadata": {},
   "outputs": [],
   "source": [
    "#| export\n",
    "import numpy as np\n",
    "from PIL import Image"
   ]
  },
  {
   "cell_type": "code",
   "execution_count": null,
   "metadata": {},
   "outputs": [],
   "source": [
    "from emdesigner.stator import stator\n",
    "from emdesigner.rotor import rotor"
   ]
  },
  {
   "cell_type": "markdown",
   "metadata": {},
   "source": [
    "### motor class is created using the following:\n",
    "\n",
    "1. stator class\n",
    "2. rotor class\n",
    "3. radial airgap"
   ]
  },
  {
   "cell_type": "code",
   "execution_count": null,
   "metadata": {},
   "outputs": [],
   "source": [
    "#| export\n",
    "class pmsm(stator, rotor):\n",
    "    def __init__(self, s = stator(), r = rotor()):\n",
    "        self.stator = s\n",
    "        self.rotor = r\n",
    "        self.airgap = 0\n",
    "        self.valid = False\n",
    "    \n",
    "    def valid_design(self):\n",
    "        if self.airgap <= 0:\n",
    "            print('motor airgap cannot be negative or zero')\n",
    "            return 0\n",
    "        \n",
    "        self.valid = True\n",
    "        \n",
    "        \n"
   ]
  },
  {
   "cell_type": "markdown",
   "metadata": {},
   "source": [
    "## test examples"
   ]
  },
  {
   "cell_type": "markdown",
   "metadata": {},
   "source": [
    "define stator and rotor classes with corresponding values"
   ]
  },
  {
   "cell_type": "code",
   "execution_count": null,
   "metadata": {},
   "outputs": [],
   "source": [
    "s1 = stator()\n",
    "s1.slots = 12\n",
    "s1.poles = 10\n",
    "s1.outerdiameter = 125\n",
    "s1.innerdiameter_fraction = 75/125\n",
    "s1.slotopening_fraction = 0.3\n",
    "s1.shoeheight_fraction = 0.1\n",
    "s1.toothwidth_fraction = 0.5\n",
    "s1.backiron_fraction = 0.3\n",
    "s1.stacklength = 60\n",
    "s1.windinglayers = 2\n",
    "s1.coilpitch = 1\n",
    "s1.turns = 11\n",
    "s1.strands = 1\n",
    "s1.strand_dia = 2\n",
    "s1.parallelpaths = 2\n",
    "s1.steel_grade = '50C470'"
   ]
  },
  {
   "cell_type": "code",
   "execution_count": null,
   "metadata": {},
   "outputs": [
    {
     "data": {
      "text/plain": [
       "True"
      ]
     },
     "execution_count": null,
     "metadata": {},
     "output_type": "execute_result"
    }
   ],
   "source": [
    "r1 = rotor()\n",
    "r1.poles = 10\n",
    "r1.outerdiameter = 73\n",
    "r1.innerdiameter_fraction = 25/73\n",
    "r1.poleembrace = 0.83\n",
    "r1.magnetthickness_fraction = 2*4/(73 - 25)\n",
    "r1.stacklength = 60\n",
    "r1.magnetgrade = 'N30'\n",
    "r1.steel_grade = '50C470'\n",
    "r1.valid_design()\n",
    "r1.valid"
   ]
  },
  {
   "cell_type": "markdown",
   "metadata": {},
   "source": [
    "### example 1:\n",
    "\n",
    "create an instance of motor class using predefined stator and rotor classes"
   ]
  },
  {
   "cell_type": "code",
   "execution_count": null,
   "metadata": {},
   "outputs": [],
   "source": [
    "m1 = pmsm(s1,r1)"
   ]
  },
  {
   "cell_type": "code",
   "execution_count": null,
   "metadata": {},
   "outputs": [
    {
     "data": {
      "text/plain": [
       "73"
      ]
     },
     "execution_count": null,
     "metadata": {},
     "output_type": "execute_result"
    }
   ],
   "source": [
    "m1.rotor.outerdiameter"
   ]
  },
  {
   "cell_type": "markdown",
   "metadata": {},
   "source": [
    "### example 2:\n",
    "\n",
    "create an instance of motor class without any inputs. Assign a pre-existing stator and rotor class instances to the defined motor class instance"
   ]
  },
  {
   "cell_type": "code",
   "execution_count": null,
   "metadata": {},
   "outputs": [],
   "source": [
    "m2 = pmsm()"
   ]
  },
  {
   "cell_type": "code",
   "execution_count": null,
   "metadata": {},
   "outputs": [],
   "source": [
    "m2.rotor = r1\n",
    "m2.stator = s1"
   ]
  },
  {
   "cell_type": "code",
   "execution_count": null,
   "metadata": {},
   "outputs": [
    {
     "data": {
      "text/plain": [
       "73"
      ]
     },
     "execution_count": null,
     "metadata": {},
     "output_type": "execute_result"
    }
   ],
   "source": [
    "m2.rotor.outerdiameter"
   ]
  },
  {
   "cell_type": "markdown",
   "metadata": {},
   "source": [
    "### example 3:\n",
    "\n",
    "create an instance of motor class without any inputs. Assign stator and rotor values to the instance"
   ]
  },
  {
   "cell_type": "code",
   "execution_count": null,
   "metadata": {},
   "outputs": [],
   "source": [
    "m3 = pmsm()"
   ]
  },
  {
   "cell_type": "code",
   "execution_count": null,
   "metadata": {},
   "outputs": [],
   "source": [
    "m3.rotor.outerdiameter = 73"
   ]
  },
  {
   "cell_type": "code",
   "execution_count": null,
   "metadata": {},
   "outputs": [
    {
     "data": {
      "text/plain": [
       "73"
      ]
     },
     "execution_count": null,
     "metadata": {},
     "output_type": "execute_result"
    }
   ],
   "source": [
    "m3.rotor.outerdiameter"
   ]
  },
  {
   "cell_type": "code",
   "execution_count": null,
   "metadata": {},
   "outputs": [],
   "source": [
    "#| hide\n",
    "import nbdev; nbdev.nbdev_export()"
   ]
  }
 ],
 "metadata": {
  "kernelspec": {
   "display_name": "Python 3.8.2 64-bit",
   "language": "python",
   "name": "python3"
  }
 },
 "nbformat": 4,
 "nbformat_minor": 2
}
