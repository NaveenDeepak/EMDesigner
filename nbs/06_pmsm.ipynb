{
 "cells": [
  {
   "cell_type": "markdown",
   "metadata": {},
   "source": [
    "# PMSM\n",
    "\n",
    "> Definition of motor class using stator and rotor subclasses."
   ]
  },
  {
   "cell_type": "code",
   "execution_count": null,
   "metadata": {},
   "outputs": [],
   "source": [
    "#| default_exp pmsm"
   ]
  },
  {
   "cell_type": "code",
   "execution_count": null,
   "metadata": {},
   "outputs": [],
   "source": [
    "#| hide\n",
    "from nbdev.showdoc import *"
   ]
  },
  {
   "cell_type": "code",
   "execution_count": null,
   "metadata": {},
   "outputs": [],
   "source": [
    "#| hide\n",
    "import sys\n",
    "sys.path.append(\"..\")"
   ]
  },
  {
   "cell_type": "code",
   "execution_count": null,
   "metadata": {},
   "outputs": [],
   "source": [
    "#| export\n",
    "import numpy as np\n",
    "from PIL import Image\n",
    "from emdesigner.stator import stator\n",
    "from emdesigner.rotor import rotor"
   ]
  },
  {
   "cell_type": "markdown",
   "metadata": {},
   "source": [
    "### motor class is created using the following:\n",
    "\n",
    "1. stator class\n",
    "2. rotor class\n",
    "3. radial airgap"
   ]
  },
  {
   "cell_type": "code",
   "execution_count": null,
   "metadata": {},
   "outputs": [
    {
     "data": {
      "text/plain": [
       "0"
      ]
     },
     "execution_count": null,
     "metadata": {},
     "output_type": "execute_result"
    }
   ],
   "source": [
    "0%3"
   ]
  },
  {
   "cell_type": "code",
   "execution_count": null,
   "metadata": {},
   "outputs": [],
   "source": [
    "#| export\n",
    "class pmsm(stator, rotor):\n",
    "    def __init__(self, s = stator(), r = rotor()):\n",
    "        self.stator = s\n",
    "        self.rotor = r\n",
    "        self.airgap = 0\n",
    "        self.coilpitch = 1\n",
    "        self.parallelpaths = 1\n",
    "        self.valid = False\n",
    "        self.params = 0\n",
    "    \n",
    "    def valid_design(self):\n",
    "        if self.airgap <= 0:\n",
    "            print('motor airgap cannot be negative or zero')\n",
    "            return 0\n",
    "        \n",
    "        if self.coilpitch < 1:\n",
    "            print('winding coil pitch cannot be smaller than 1 slots')\n",
    "            return 0\n",
    "        \n",
    "        if self.parallelpaths < 1 or np.lcm(self.stator.slots, self.rotor.poles)%self.parallelpaths != 0:\n",
    "            print('Invalid parallel paths for the slots-poles combination')\n",
    "            return 0 \n",
    "        \n",
    "        # check validity of stator\n",
    "        self.stator.valid_design()\n",
    "        if self.stator.valid == False:\n",
    "            print('stator validation pending')\n",
    "            return 0\n",
    "\n",
    "        # check validity of rotor\n",
    "        self.rotor.valid_design()\n",
    "        if self.rotor.valid == False:\n",
    "            print('rotor validation pending')\n",
    "            return 0\n",
    "\n",
    "        # calculate motor parameters\n",
    "        self.calculate_parameters()\n",
    "        self.valid = True\n",
    "\n",
    "\n",
    "    def calculate_parameters(self):\n",
    "        \"\"\"calculate parameters requied for calculation of motor properties\n",
    "        \"\"\"\n",
    "        Nspp = self.stator.slots/(3*self.rotor.poles)\n",
    "        \n",
    "        # a_cp is modified to accommodate fractional slot concentrated winding\n",
    "        a_cp = int(Nspp)/Nspp\n",
    "        t_p = self.stator.params['Rsi']*self.rotor.params['th_p']\n",
    "        t_s = self.stator.params['Rsi']*self.stator.params['th_s']\n",
    "        t_c = self.stator.params['Rsi']*2*np.pi*self.coilpitch/self.stator.slots\n",
    "        th_se = self.stator.params['th_s']*self.rotor.poles/2\n",
    "        kd = np.sin(Nspp*th_se/2)/(Nspp*np.sin(th_se/2))\n",
    "        a_m = self.rotor.poleembrace\n",
    "        c_phi = 2*a_m/(1+a_m)\n",
    "        gc = self.rotor.params['lm']/(self.airgap*c_phi)\n",
    "        kc_1 = (t_s/self.stator.params['ws'])*(5*gc/self.stator.params['ws'] + 1)\n",
    "        kc = 1/(1 - 1/kc_1)\n",
    "\n",
    "        self.params = {'Nspp': Nspp,\n",
    "                        'a_cp': a_cp,\n",
    "                        't_p': t_p,\n",
    "                        't_s': t_s,\n",
    "                        't_c': t_c,\n",
    "                        'th_se':th_se,\n",
    "                        'kd': kd,\n",
    "                        'c_phi': c_phi,\n",
    "                        'gc': gc,\n",
    "                        'kc':kc}\n"
   ]
  },
  {
   "cell_type": "markdown",
   "metadata": {},
   "source": [
    "        # needs rotor information\n",
    "        th_p = np.pi*2/self.poles\n",
    "        Nspp = self.stator.slots/(3*self.rotor.poles)\n",
    "        a_cp = int(Nspp)/Nspp\n",
    "        t_p = self.stator.params['Rsi'] Rsi*th_p\n",
    "        t_s = Rsi*th_s\n",
    "        t_c = a_cp*t_p\n",
    "        th_se = np.pi/(self.slots/self.poles)\n",
    "        kd = np.sin(Nspp*th_se/2)/(Nspp*np.sin(th_se/2))\n",
    "        lm = 4\n",
    "        a_m = 0.83\n",
    "        c_phi = 2*a_m/(1+a_m)\n",
    "        gc = lm/(g*c_phi)\n",
    "        kc_1 = (t_s/ws)*(5*gc/ws + 1)\n",
    "        kc = 1/(1 - 1/kc_1) "
   ]
  },
  {
   "cell_type": "markdown",
   "metadata": {},
   "source": [
    "## test examples"
   ]
  },
  {
   "cell_type": "markdown",
   "metadata": {},
   "source": [
    "define stator and rotor classes with corresponding values"
   ]
  },
  {
   "cell_type": "code",
   "execution_count": null,
   "metadata": {},
   "outputs": [],
   "source": [
    "s1 = stator()\n",
    "s1.slots = 12\n",
    "s1.poles = 10\n",
    "s1.outerdiameter = 125\n",
    "s1.innerdiameter_fraction = 75/125\n",
    "s1.slotopening_fraction = 0.3\n",
    "s1.shoeheight_fraction = 0.1\n",
    "s1.toothwidth_fraction = 0.5\n",
    "s1.backiron_fraction = 0.3\n",
    "s1.stacklength = 60\n",
    "s1.windinglayers = 2\n",
    "s1.coilpitch = 1\n",
    "s1.turns = 11\n",
    "s1.strands = 1\n",
    "s1.strand_dia = 2\n",
    "s1.parallelpaths = 2\n",
    "s1.steel_grade = '50C470'"
   ]
  },
  {
   "cell_type": "code",
   "execution_count": null,
   "metadata": {},
   "outputs": [
    {
     "data": {
      "text/plain": [
       "0"
      ]
     },
     "execution_count": null,
     "metadata": {},
     "output_type": "execute_result"
    }
   ],
   "source": [
    "s1.params"
   ]
  },
  {
   "cell_type": "code",
   "execution_count": null,
   "metadata": {},
   "outputs": [
    {
     "data": {
      "text/plain": [
       "False"
      ]
     },
     "execution_count": null,
     "metadata": {},
     "output_type": "execute_result"
    }
   ],
   "source": [
    "s1.valid"
   ]
  },
  {
   "cell_type": "code",
   "execution_count": null,
   "metadata": {},
   "outputs": [],
   "source": [
    "r1 = rotor()\n",
    "r1.poles = 10\n",
    "r1.outerdiameter = 73\n",
    "r1.innerdiameter_fraction = 25/73\n",
    "r1.poleembrace = 0.83\n",
    "r1.magnetthickness_fraction = 2*4/(73 - 25)\n",
    "r1.stacklength = 60\n",
    "r1.magnetgrade = 'N30'\n",
    "r1.steel_grade = '50C470'"
   ]
  },
  {
   "cell_type": "code",
   "execution_count": null,
   "metadata": {},
   "outputs": [
    {
     "data": {
      "text/plain": [
       "0"
      ]
     },
     "execution_count": null,
     "metadata": {},
     "output_type": "execute_result"
    }
   ],
   "source": [
    "r1.params"
   ]
  },
  {
   "cell_type": "markdown",
   "metadata": {},
   "source": [
    "### example 1:\n",
    "\n",
    "create an instance of motor class using predefined stator and rotor classes"
   ]
  },
  {
   "cell_type": "code",
   "execution_count": null,
   "metadata": {},
   "outputs": [],
   "source": [
    "m1 = pmsm(s1,r1)"
   ]
  },
  {
   "cell_type": "code",
   "execution_count": null,
   "metadata": {},
   "outputs": [
    {
     "data": {
      "text/plain": [
       "73"
      ]
     },
     "execution_count": null,
     "metadata": {},
     "output_type": "execute_result"
    }
   ],
   "source": [
    "m1.rotor.outerdiameter"
   ]
  },
  {
   "cell_type": "markdown",
   "metadata": {},
   "source": [
    "### example 2:\n",
    "\n",
    "create an instance of motor class without any inputs. Assign a pre-existing stator and rotor class instances to the defined motor class instance"
   ]
  },
  {
   "cell_type": "code",
   "execution_count": null,
   "metadata": {},
   "outputs": [],
   "source": [
    "m2 = pmsm()"
   ]
  },
  {
   "cell_type": "code",
   "execution_count": null,
   "metadata": {},
   "outputs": [],
   "source": [
    "m2.rotor = r1\n",
    "m2.stator = s1"
   ]
  },
  {
   "cell_type": "code",
   "execution_count": null,
   "metadata": {},
   "outputs": [
    {
     "data": {
      "text/plain": [
       "73"
      ]
     },
     "execution_count": null,
     "metadata": {},
     "output_type": "execute_result"
    }
   ],
   "source": [
    "m2.rotor.outerdiameter"
   ]
  },
  {
   "cell_type": "markdown",
   "metadata": {},
   "source": [
    "### example 3:\n",
    "\n",
    "create an instance of motor class without any inputs. Assign stator and rotor values to the instance"
   ]
  },
  {
   "cell_type": "code",
   "execution_count": null,
   "metadata": {},
   "outputs": [],
   "source": [
    "m3 = pmsm()"
   ]
  },
  {
   "cell_type": "code",
   "execution_count": null,
   "metadata": {},
   "outputs": [],
   "source": [
    "m3.rotor.outerdiameter = 73"
   ]
  },
  {
   "cell_type": "code",
   "execution_count": null,
   "metadata": {},
   "outputs": [
    {
     "data": {
      "text/plain": [
       "73"
      ]
     },
     "execution_count": null,
     "metadata": {},
     "output_type": "execute_result"
    }
   ],
   "source": [
    "m3.rotor.outerdiameter"
   ]
  },
  {
   "cell_type": "code",
   "execution_count": null,
   "metadata": {},
   "outputs": [],
   "source": [
    "#| hide\n",
    "import nbdev; nbdev.nbdev_export()"
   ]
  },
  {
   "cell_type": "markdown",
   "metadata": {},
   "source": [
    "## test examples for parameters calculation"
   ]
  },
  {
   "cell_type": "code",
   "execution_count": null,
   "metadata": {},
   "outputs": [],
   "source": [
    "#m1.stator.valid_design()\n",
    "#m1.rotor.valid_design()\n"
   ]
  },
  {
   "cell_type": "code",
   "execution_count": null,
   "metadata": {},
   "outputs": [
    {
     "name": "stdout",
     "output_type": "stream",
     "text": [
      "False\n"
     ]
    }
   ],
   "source": [
    "m1.airgap = 1\n",
    "print(m1.stator.valid)\n"
   ]
  },
  {
   "cell_type": "code",
   "execution_count": null,
   "metadata": {},
   "outputs": [],
   "source": [
    "m1.valid_design()"
   ]
  },
  {
   "cell_type": "code",
   "execution_count": null,
   "metadata": {},
   "outputs": [
    {
     "data": {
      "text/plain": [
       "{'Rso': 62.5,\n",
       " 'Rsi': 37.5,\n",
       " 'd1': 2.5,\n",
       " 'd2': 2.5,\n",
       " 'wbi': 6.0,\n",
       " 'd3': 14.0,\n",
       " 'th_s': 0.5235987755982988,\n",
       " 'ws': 5.884432179588369,\n",
       " 'wtb': 2.944486181930145,\n",
       " 'wsi': 39.555513818069855,\n",
       " 'wsb': 53.555513818069855,\n",
       " 'As': 160.8155724712995}"
      ]
     },
     "execution_count": null,
     "metadata": {},
     "output_type": "execute_result"
    }
   ],
   "source": [
    "m1.stator.params"
   ]
  },
  {
   "cell_type": "code",
   "execution_count": null,
   "metadata": {},
   "outputs": [
    {
     "data": {
      "text/plain": [
       "{'Rro': 36.5,\n",
       " 'Rri': 12.5,\n",
       " 'lm': 4.0,\n",
       " 'a_m': 0.83,\n",
       " 'Am': 3066.445757315925,\n",
       " 'th_p': 0.6283185307179586}"
      ]
     },
     "execution_count": null,
     "metadata": {},
     "output_type": "execute_result"
    }
   ],
   "source": [
    "m1.rotor.params"
   ]
  },
  {
   "cell_type": "code",
   "execution_count": null,
   "metadata": {},
   "outputs": [
    {
     "data": {
      "text/plain": [
       "{'Nspp': 0.4,\n",
       " 'a_cp': 0.0,\n",
       " 't_p': 23.561944901923447,\n",
       " 't_s': 19.634954084936204,\n",
       " 't_c': 19.634954084936208,\n",
       " 'th_se': 2.6179938779914944,\n",
       " 'kd': 1.2940952255126037,\n",
       " 'c_phi': 0.9071038251366119,\n",
       " 'gc': 4.409638554216868,\n",
       " 'kc': 1.0673891978270886}"
      ]
     },
     "execution_count": null,
     "metadata": {},
     "output_type": "execute_result"
    }
   ],
   "source": [
    "m1.params"
   ]
  },
  {
   "cell_type": "code",
   "execution_count": null,
   "metadata": {},
   "outputs": [
    {
     "data": {
      "text/plain": [
       "0.8"
      ]
     },
     "execution_count": null,
     "metadata": {},
     "output_type": "execute_result"
    }
   ],
   "source": [
    "12/(3*10)"
   ]
  },
  {
   "cell_type": "code",
   "execution_count": null,
   "metadata": {},
   "outputs": [],
   "source": [
    "the = np.pi*10/(12)"
   ]
  },
  {
   "cell_type": "code",
   "execution_count": null,
   "metadata": {},
   "outputs": [
    {
     "data": {
      "text/plain": [
       "1.1207193402100668"
      ]
     },
     "execution_count": null,
     "metadata": {},
     "output_type": "execute_result"
    }
   ],
   "source": [
    "np.sin(0.8*the/2)/(0.8*np.sin(the/2))"
   ]
  },
  {
   "cell_type": "code",
   "execution_count": null,
   "metadata": {},
   "outputs": [],
   "source": [
    "#| hide\n",
    "import nbdev; nbdev.nbdev_export()"
   ]
  }
 ],
 "metadata": {
  "kernelspec": {
   "display_name": "python3",
   "language": "python",
   "name": "python3"
  }
 },
 "nbformat": 4,
 "nbformat_minor": 2
}
